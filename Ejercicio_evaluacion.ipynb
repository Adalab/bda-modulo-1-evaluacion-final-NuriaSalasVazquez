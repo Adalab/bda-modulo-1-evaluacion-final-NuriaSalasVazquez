{
 "cells": [
  {
   "cell_type": "markdown",
   "metadata": {},
   "source": [
    "                                Ejercicio de Evaluacion\n",
    "\n",
    "                                    TIENDA ONLINE"
   ]
  },
  {
   "cell_type": "code",
   "execution_count": null,
   "metadata": {},
   "outputs": [
    {
     "name": "stdout",
     "output_type": "stream",
     "text": [
      "Producto 'pantufla' agregado al inventario.\n",
      "Producto 'monedero' agregado al inventario.\n",
      "Producto 'totebag' agregado al inventario.\n",
      "Producto 'pañuelo' agregado al inventario.\n"
     ]
    }
   ],
   "source": [
    "class TiendaOnline:\n",
    "\n",
    "    def __init__(self):\n",
    "\n",
    "        self.inventario = []  # Lista vacía de productos\n",
    "        self.ventas_totales=0.0\n",
    "\n",
    "    def agregar_producto(self, nombre, precio, cantidad):#parametros que se pasan cuando se llama a la funcion\n",
    "    \n",
    "    \n",
    "        # Crear el diccionario del producto\n",
    "        producto = {\"nombre\": nombre, \"precio\": precio, \"cantidad\": cantidad}\n",
    "        #Se asignan los valores de los parámetros nombre, precio y cantidad, que son pasados a la función cuando se llam\n",
    "        \n",
    "        # Verificar si el producto ya existe en el inventario\n",
    "        for p in self.inventario:  #Esto recorre (itera) todos los productos en el inventario.\n",
    "           \n",
    "            if p['nombre'] == nombre:\n",
    "                print(\"El producto ya existe. Se ha actualizado la cantidad.\")\n",
    "                p['cantidad'] += cantidad\n",
    "                break     #Una vez que el producto se encuentra y su cantidad se actualiza, el break detiene la ejecución del ciclo for. \n",
    "        else:\n",
    "            # Añadir el nuevo producto al inventario\n",
    "            self.inventario.append(producto)\n",
    "            print(f\"Producto '{nombre}' agregado al inventario.\")\n",
    "\n",
    "\n",
    "\n",
    "\n",
    "\n",
    "\n",
    "\n",
    "\n",
    "# Crear una instancia de TiendaOnline\n",
    "\n",
    "mi_tienda = TiendaOnline()\n",
    "\n",
    "# Agregar productos al inventario\n",
    "\n",
    "mi_tienda.agregar_producto(\"pantufla\", 5, 15)\n",
    "mi_tienda.agregar_producto(\"monedero\", 10, 10)\n",
    "mi_tienda.agregar_producto(\"totebag\", 9.9, 20)\n",
    "mi_tienda.agregar_producto(\"pañuelo\", 10.99, 15)\n",
    "          \n",
    "            "
   ]
  }
 ],
 "metadata": {
  "kernelspec": {
   "display_name": "base",
   "language": "python",
   "name": "python3"
  },
  "language_info": {
   "codemirror_mode": {
    "name": "ipython",
    "version": 3
   },
   "file_extension": ".py",
   "mimetype": "text/x-python",
   "name": "python",
   "nbconvert_exporter": "python",
   "pygments_lexer": "ipython3",
   "version": "3.12.7"
  }
 },
 "nbformat": 4,
 "nbformat_minor": 2
}
