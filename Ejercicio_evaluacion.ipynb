{
 "cells": [
  {
   "cell_type": "markdown",
   "metadata": {},
   "source": [
    "                                Ejercicio de Evaluacion\n",
    "\n",
    "                                    TIENDA ONLINE"
   ]
  },
  {
   "cell_type": "code",
   "execution_count": null,
   "metadata": {},
   "outputs": [],
   "source": [
    "class TiendaOnline:\n",
    "\n",
    "    def __init__(self):\n",
    "        self.inventario = []  # Lista vacía de productos\n",
    "        self.ventas_totales=0.0\n"
   ]
  }
 ],
 "metadata": {
  "kernelspec": {
   "display_name": "base",
   "language": "python",
   "name": "python3"
  },
  "language_info": {
   "name": "python",
   "version": "3.12.7"
  }
 },
 "nbformat": 4,
 "nbformat_minor": 2
}
